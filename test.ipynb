{
 "cells": [
  {
   "cell_type": "code",
   "execution_count": 1,
   "id": "57a16554-e423-4519-86e7-a9ddb7b4f921",
   "metadata": {},
   "outputs": [
    {
     "name": "stderr",
     "output_type": "stream",
     "text": [
      "R[write to console]: Error in (function ()  : \n",
      "  org.Mm.egPFAM is defunct. Please use select() if you need access to\n",
      "  PFAM or PROSITE accessions.\n",
      "\n",
      "R[write to console]: 此外: \n",
      "R[write to console]: Warning messages:\n",
      "\n",
      "R[write to console]: 1: \n",
      "R[write to console]: In (function (package, help, pos = 2, lib.loc = NULL, character.only = FALSE,  :\n",
      "R[write to console]: \n",
      " \n",
      "R[write to console]:  图书馆‘/usr/lib/R/site-library’里没有程辑包\n",
      "\n",
      "R[write to console]: 2: \n",
      "R[write to console]: In (function (package, help, pos = 2, lib.loc = NULL, character.only = FALSE,  :\n",
      "R[write to console]: \n",
      " \n",
      "R[write to console]:  图书馆‘/usr/lib/R/site-library’里没有程辑包\n",
      "\n",
      "/usr/local/anaconda3/envs/bioinfo/lib/python3.9/site-packages/rpy2/robjects/packages.py:263: UserWarning: R C-API Rf_findVarInFrame()\n",
      "  warn(str(rre))\n",
      "R[write to console]: Error in (function ()  : \n",
      "  org.Mm.egPROSITE is defunct. Please use select() if you need access to\n",
      "  PFAM or PROSITE accessions.\n",
      "\n",
      "R[write to console]: Error in (function ()  : \n",
      "  org.Hs.egPFAM is defunct. Please use select() if you need access to\n",
      "  PFAM or PROSITE accessions.\n",
      "\n",
      "R[write to console]: 此外: \n",
      "R[write to console]: Warning message:\n",
      "\n",
      "R[write to console]: In (function (package, help, pos = 2, lib.loc = NULL, character.only = FALSE,  :\n",
      "R[write to console]: \n",
      " \n",
      "R[write to console]:  图书馆‘/usr/lib/R/site-library’里没有程辑包\n",
      "\n",
      "R[write to console]: Error in (function ()  : \n",
      "  org.Hs.egPROSITE is defunct. Please use select() if you need access to\n",
      "  PFAM or PROSITE accessions.\n",
      "\n",
      "2023-03-25 16:11:02.740271: I tensorflow/core/util/util.cc:169] oneDNN custom operations are on. You may see slightly different numerical results due to floating-point round-off errors from different computation orders. To turn them off, set the environment variable `TF_ENABLE_ONEDNN_OPTS=0`.\n"
     ]
    },
    {
     "name": "stdout",
     "output_type": "stream",
     "text": [
      "WARNING:tensorflow:From /usr/local/anaconda3/envs/bioinfo/lib/python3.9/site-packages/tensorflow/python/compat/v2_compat.py:107: disable_resource_variables (from tensorflow.python.ops.variable_scope) is deprecated and will be removed in a future version.\n",
      "Instructions for updating:\n",
      "non-resource variables are not supported in the long term\n"
     ]
    },
    {
     "name": "stderr",
     "output_type": "stream",
     "text": [
      "WARNING:tensorflow:From /usr/local/anaconda3/envs/bioinfo/lib/python3.9/site-packages/tensorflow/python/compat/v2_compat.py:107: disable_resource_variables (from tensorflow.python.ops.variable_scope) is deprecated and will be removed in a future version.\n",
      "Instructions for updating:\n",
      "non-resource variables are not supported in the long term\n"
     ]
    }
   ],
   "source": [
    "from benchmark.run_benchmark import run_bench"
   ]
  },
  {
   "cell_type": "code",
   "execution_count": 2,
   "id": "f2436eac-9535-488e-a5dc-6f03ce05fc81",
   "metadata": {},
   "outputs": [],
   "source": [
    "data_cfg = {\n",
    "    'DLPFC151507': {\n",
    "        'adata_path': '/volume2/bioinfo/SRT/visium/human_dorsolateral_prefrontal_cortex/h5ad/151507_10xvisium.h5ad',\n",
    "        'image_path': '/volume2/bioinfo/SRT/visium/human_dorsolateral_prefrontal_cortex/image/151507_full_image.tif',\n",
    "        'annot_key': 'spatialLIBD',\n",
    "    }}"
   ]
  },
  {
   "cell_type": "code",
   "execution_count": 3,
   "id": "7e5f468a-dd21-461a-bcc0-2373d4f290c3",
   "metadata": {},
   "outputs": [],
   "source": [
    "cl_cfg = {'SPARK': 1}\n",
    "metrics = ['DB-Index(Pearson)']"
   ]
  },
  {
   "cell_type": "code",
   "execution_count": 4,
   "id": "9b915d06-4fae-498b-a0de-4e2ac7209975",
   "metadata": {},
   "outputs": [
    {
     "data": {
      "text/html": [
       "<pre style=\"white-space:pre;overflow-x:auto;line-height:normal;font-family:Menlo,'DejaVu Sans Mono',consolas,'Courier New',monospace\"><span style=\"color: #00ff00; text-decoration-color: #00ff00\">─────────────────────────────────────────────────── </span><span style=\"color: #800000; text-decoration-color: #800000; font-weight: bold\">DLPFC151507</span><span style=\"color: #00ff00; text-decoration-color: #00ff00\"> ───────────────────────────────────────────────────</span>\n",
       "</pre>\n"
      ],
      "text/plain": [
       "\u001b[92m─────────────────────────────────────────────────── \u001b[0m\u001b[1;31mDLPFC151507\u001b[0m\u001b[92m ───────────────────────────────────────────────────\u001b[0m\n"
      ]
     },
     "metadata": {},
     "output_type": "display_data"
    },
    {
     "data": {
      "text/html": [
       "<pre style=\"white-space:pre;overflow-x:auto;line-height:normal;font-family:Menlo,'DejaVu Sans Mono',consolas,'Courier New',monospace\">Using cached adata and skip preprocessing. Shape: <span style=\"color: #808000; text-decoration-color: #808000; font-weight: bold\">4226</span> cells, <span style=\"color: #808000; text-decoration-color: #808000; font-weight: bold\">15811</span> genes.\n",
       "</pre>\n"
      ],
      "text/plain": [
       "Using cached adata and skip preprocessing. Shape: \u001b[1;33m4226\u001b[0m cells, \u001b[1;33m15811\u001b[0m genes.\n"
      ]
     },
     "metadata": {},
     "output_type": "display_data"
    },
    {
     "name": "stderr",
     "output_type": "stream",
     "text": [
      "/volume1/home/kxu/ST/benchmark/_metrics.py:52: ImplicitModificationWarning: Trying to modify attribute `.var` of view, initializing view as actual.\n",
      "  adata.var['cluster_id']=data['cluster_id'].values\n"
     ]
    }
   ],
   "source": [
    "run_bench(\n",
    "    data_cfg, cl_cfg, metrics, species='human', clean_cache=False, log_path='loguru.log', random_state=100, k=100\n",
    ")"
   ]
  },
  {
   "cell_type": "code",
   "execution_count": null,
   "id": "02a35020-adb8-4924-bf03-544d447a3357",
   "metadata": {},
   "outputs": [],
   "source": []
  }
 ],
 "metadata": {
  "kernelspec": {
   "display_name": "bioinfo",
   "language": "python",
   "name": "bioinfo"
  },
  "language_info": {
   "codemirror_mode": {
    "name": "ipython",
    "version": 3
   },
   "file_extension": ".py",
   "mimetype": "text/x-python",
   "name": "python",
   "nbconvert_exporter": "python",
   "pygments_lexer": "ipython3",
   "version": "3.9.15"
  }
 },
 "nbformat": 4,
 "nbformat_minor": 5
}
